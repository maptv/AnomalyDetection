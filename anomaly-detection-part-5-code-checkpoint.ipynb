{
 "cells": [
  {
   "cell_type": "markdown",
   "id": "b3f55418-8073-48f0-a746-80f05838b1cb",
   "metadata": {},
   "source": [
    "## ANOMALY DETECTION PART 5\n",
    "\n",
    "NOTE: To run individual pieces of code, select the line of code and press ctrl + enter for PCs or command + enter for Macs\n",
    "\n",
    "COPYRIGHT - DATA SOCIETY"
   ]
  },
  {
   "cell_type": "code",
   "execution_count": null,
   "id": "fa46e9ea",
   "metadata": {
    "tags": []
   },
   "outputs": [],
   "source": [
    "# =================================================-\n",
    "#### Slide 4: Import packages  ####\n",
    "\n",
    "from pathlib import Path\n",
    "import pandas as pd\n",
    "from pandas.plotting import lag_plot\n",
    "import numpy as np\n",
    "import pickle\n",
    "from math import sqrt\n",
    "import datetime\n",
    "\n",
    "import matplotlib.pyplot as plt\n",
    "import matplotlib.dates as mdates\n",
    "\n",
    "from statsmodels.tsa.stattools import acf\n",
    "from statsmodels.tsa.stattools import adfuller\n",
    "from statsmodels.tsa.seasonal import seasonal_decompose\n",
    "from statsmodels.graphics.tsaplots import plot_acf, plot_pacf\n",
    "from statsmodels.tsa.arima_model import ARIMA\n",
    "from sklearn.metrics import mean_squared_error"
   ]
  },
  {
   "cell_type": "code",
   "execution_count": null,
   "id": "0f93d9d4-119c-4a5b-ad1a-df710a881ec8",
   "metadata": {},
   "outputs": [],
   "source": [
    "# %pip install statsmodels"
   ]
  },
  {
   "cell_type": "markdown",
   "id": "605ae91f-d5f5-449b-91e1-7ce03f00d535",
   "metadata": {},
   "source": [
    "https://www.kaggle.com/code/furiousx7/xgboost-arima-and-prophet-for-time-series"
   ]
  },
  {
   "cell_type": "code",
   "execution_count": null,
   "id": "00643de1-d271-4b88-a7df-b29bf6e15869",
   "metadata": {
    "tags": []
   },
   "outputs": [],
   "source": [
    "# Set 'main_dir' to location of the project folder\n",
    "from pathlib import Path\n",
    "\n",
    "data_dir = Path.cwd() / \"data\""
   ]
  },
  {
   "cell_type": "code",
   "execution_count": null,
   "id": "3283d2ac",
   "metadata": {
    "tags": []
   },
   "outputs": [],
   "source": [
    "# =================================================-\n",
    "#### Slide 6: Load PJM Energy dataset  ####\n",
    "\n",
    "pjm_energy = pd.read_csv(\n",
    "    data_dir / \"PJME_hourly.csv\", parse_dates=[\"Datetime\"], index_col=\"Datetime\"\n",
    ")\n",
    "print(pjm_energy.head())\n",
    "pjm_energy.dtypes"
   ]
  },
  {
   "cell_type": "code",
   "execution_count": null,
   "id": "6f39b184-0325-4f99-b627-8d66f6a23a02",
   "metadata": {
    "tags": []
   },
   "outputs": [],
   "source": [
    "pjm_energy = pjm_energy[\"2018\":]"
   ]
  },
  {
   "cell_type": "code",
   "execution_count": null,
   "id": "c5ce73e5-b271-4594-b4ff-b7cac0fcf2a6",
   "metadata": {
    "tags": []
   },
   "outputs": [],
   "source": [
    "pjm_energy"
   ]
  },
  {
   "cell_type": "code",
   "execution_count": null,
   "id": "139239bb-3dcf-4e5b-8398-489ebe747127",
   "metadata": {
    "tags": []
   },
   "outputs": [],
   "source": [
    "pjm_energy = pjm_energy.reset_index()"
   ]
  },
  {
   "cell_type": "code",
   "execution_count": null,
   "id": "176af646-bc56-4b97-8ccc-defb15da6923",
   "metadata": {
    "tags": []
   },
   "outputs": [],
   "source": [
    "# =================================================-\n",
    "#### Slide 7: Extract Date from Datetime  ####\n",
    "\n",
    "pjm_energy = pjm_energy.assign(Date=pjm_energy[\"Datetime\"].dt.date)"
   ]
  },
  {
   "cell_type": "code",
   "execution_count": null,
   "id": "746d40d2-52bc-412b-bd40-65c72c0ad078",
   "metadata": {
    "tags": []
   },
   "outputs": [],
   "source": [
    "pjm_energy"
   ]
  },
  {
   "cell_type": "code",
   "execution_count": null,
   "id": "0462220e-5507-4a6a-a940-dc9c5fcb49c4",
   "metadata": {
    "tags": []
   },
   "outputs": [],
   "source": [
    "pjm_energy_datewise = pjm_energy.groupby(\"Date\")[[\"PJME_MW\"]].mean()"
   ]
  },
  {
   "cell_type": "code",
   "execution_count": null,
   "id": "07be5b16-2d54-4adf-ac54-34efe96e3c4b",
   "metadata": {
    "tags": []
   },
   "outputs": [],
   "source": [
    "pjm_energy_datewise"
   ]
  },
  {
   "cell_type": "code",
   "execution_count": null,
   "id": "4bc92ff8",
   "metadata": {
    "tags": []
   },
   "outputs": [],
   "source": [
    "# =================================================-\n",
    "#### Slide 8: Visualize the Energy consumption for each day  ####\n",
    "\n",
    "pjm_energy.set_index(\"Datetime\").sort_index().plot(y=\"PJME_MW\", figsize=(17, 6))\n",
    "plt.xlabel(\"Date\")\n",
    "plt.ylabel(\"Energy Consumption\")\n",
    "plt.title(\"Energy consumption (MW) at each day in 2018\");"
   ]
  },
  {
   "cell_type": "code",
   "execution_count": null,
   "id": "2f6a670b-ae70-4396-a4c7-7a727ed44433",
   "metadata": {
    "tags": []
   },
   "outputs": [],
   "source": [
    "pjm_energy_datewise"
   ]
  },
  {
   "cell_type": "code",
   "execution_count": null,
   "id": "ed9366e7-751e-48d5-944b-d4b23b72a880",
   "metadata": {
    "scrolled": true,
    "tags": []
   },
   "outputs": [],
   "source": [
    "# =================================================-\n",
    "#### Slide 8: Visualize the Energy consumption for each day  ####\n",
    "\n",
    "pjm_energy_datewise.plot(figsize=(17, 6))\n",
    "plt.xlabel(\"Date\")\n",
    "plt.ylabel(\"Energy Consumption\")\n",
    "plt.title(\"Energy consumption (MW) at each day in 2018\");"
   ]
  },
  {
   "cell_type": "code",
   "execution_count": null,
   "id": "8850a603-8f27-4254-9556-d4adcf563010",
   "metadata": {},
   "outputs": [],
   "source": [
    "from statsmodels.tsa.seasonal import seasonal_decompose"
   ]
  },
  {
   "cell_type": "code",
   "execution_count": null,
   "id": "603ca422-d980-4b33-9e63-13a54b4fcee6",
   "metadata": {},
   "outputs": [],
   "source": [
    "pjm_energy_datewise.index"
   ]
  },
  {
   "cell_type": "code",
   "execution_count": null,
   "id": "d56cfcbc-600a-4ccd-9e8f-e73f9bf2cb10",
   "metadata": {},
   "outputs": [],
   "source": [
    "sd = seasonal_decompose(pjm_energy_datewise.set_index(pd.date_range(\"2018-01-01\", \"2018-08-03\", freq=\"D\")))"
   ]
  },
  {
   "cell_type": "code",
   "execution_count": null,
   "id": "c55ed0d8-0cc2-4368-887c-41f29e0e7565",
   "metadata": {},
   "outputs": [],
   "source": [
    "abs_resid = sd.resid.abs()"
   ]
  },
  {
   "cell_type": "code",
   "execution_count": null,
   "id": "b3ded42f-36fc-4df5-89e5-51e8f530adc6",
   "metadata": {},
   "outputs": [],
   "source": [
    "res_df = pjm_energy_datewise[abs_resid > abs_resid.quantile(.99)]"
   ]
  },
  {
   "cell_type": "code",
   "execution_count": null,
   "id": "06c2a8fe-77dc-4ff3-a632-512ffaaaeda2",
   "metadata": {},
   "outputs": [],
   "source": [
    "res_df"
   ]
  },
  {
   "cell_type": "code",
   "execution_count": null,
   "id": "fbae1762-e567-402f-bad6-3811b5c408b0",
   "metadata": {},
   "outputs": [],
   "source": [
    "fig, ax = plt.subplots(figsize=(17, 6))\n",
    "ax.plot(\n",
    "    pjm_energy_datewise.index,\n",
    "    pjm_energy_datewise,\n",
    "    color=\"blue\",\n",
    "    label=\"Normal\",\n",
    "    zorder=1,\n",
    ")\n",
    "ax.scatter(\n",
    "    res_df.index,\n",
    "    res_df[\"PJME_MW\"],\n",
    "    color=\"red\",\n",
    "    edgecolor=\"k\",\n",
    "    s=90,\n",
    "    linewidths=0.4,\n",
    "    label=\"Anomaly\",\n",
    "    zorder=9,\n",
    ")\n",
    "plt.legend();"
   ]
  },
  {
   "cell_type": "code",
   "execution_count": null,
   "id": "d5b3b893-1760-4553-945a-91de1e1e6614",
   "metadata": {},
   "outputs": [],
   "source": [
    "res_df = pjm_energy_datewise[sd.resid > sd.resid.quantile(.99)]"
   ]
  },
  {
   "cell_type": "code",
   "execution_count": null,
   "id": "c34adbbc-68e3-46d0-b60c-a27b4d0cecc3",
   "metadata": {},
   "outputs": [],
   "source": [
    "fig, ax = plt.subplots(figsize=(17, 6))\n",
    "ax.plot(\n",
    "    pjm_energy_datewise.index,\n",
    "    pjm_energy_datewise,\n",
    "    color=\"blue\",\n",
    "    label=\"Normal\",\n",
    "    zorder=1,\n",
    ")\n",
    "ax.scatter(\n",
    "    res_df.index,\n",
    "    res_df[\"PJME_MW\"],\n",
    "    color=\"red\",\n",
    "    edgecolor=\"k\",\n",
    "    s=90,\n",
    "    linewidths=0.4,\n",
    "    label=\"Anomaly\",\n",
    "    zorder=9,\n",
    ")\n",
    "plt.legend();"
   ]
  },
  {
   "cell_type": "code",
   "execution_count": null,
   "id": "db3e371e-9617-4912-9368-276b17ee7e9e",
   "metadata": {},
   "outputs": [],
   "source": [
    "pjm_energy_datewise[\"resid\"] = sd.resid"
   ]
  },
  {
   "cell_type": "code",
   "execution_count": null,
   "id": "4e5d12c1-e565-4a9d-b111-eadff7cb73a1",
   "metadata": {},
   "outputs": [],
   "source": [
    "pjm_energy_datewise = pjm_energy_datewise.drop(\"resid\", axis=1)"
   ]
  },
  {
   "cell_type": "code",
   "execution_count": null,
   "id": "f9619100-295a-4d12-b408-231baae1d873",
   "metadata": {},
   "outputs": [],
   "source": [
    "sd.trend.plot()"
   ]
  },
  {
   "cell_type": "code",
   "execution_count": null,
   "id": "a2b54c47-7211-4581-9026-58718d0463a3",
   "metadata": {},
   "outputs": [],
   "source": [
    "sd.seasonal.plot()"
   ]
  },
  {
   "cell_type": "code",
   "execution_count": null,
   "id": "910d7004-683d-4708-835a-446cc3ec0505",
   "metadata": {},
   "outputs": [],
   "source": [
    "sd.resid.plot()"
   ]
  },
  {
   "cell_type": "code",
   "execution_count": null,
   "id": "2ba479aa-560d-42a6-acfb-12041e4c44eb",
   "metadata": {},
   "outputs": [],
   "source": [
    "res_df"
   ]
  },
  {
   "cell_type": "code",
   "execution_count": null,
   "id": "ee015737-6099-4000-9265-d585791713ef",
   "metadata": {},
   "outputs": [],
   "source": [
    "res_df = pjm_energy_datewise.loc[sd.resid.sort_values(ascending=False).head(9).index]\n",
    "\n",
    "fig, ax = plt.subplots(figsize=(17, 6))\n",
    "ax.plot(\n",
    "    pjm_energy_datewise.index,\n",
    "    pjm_energy_datewise,\n",
    "    color=\"blue\",\n",
    "    label=\"Normal\",\n",
    "    zorder=1,\n",
    ")\n",
    "ax.scatter(\n",
    "    res_df.index,\n",
    "    res_df[\"PJME_MW\"],\n",
    "    color=\"red\",\n",
    "    edgecolor=\"k\",\n",
    "    s=90,\n",
    "    linewidths=0.4,\n",
    "    label=\"Anomaly\",\n",
    "    zorder=9,\n",
    ")\n",
    "plt.legend();"
   ]
  },
  {
   "cell_type": "code",
   "execution_count": null,
   "id": "5254cdd6",
   "metadata": {},
   "outputs": [],
   "source": [
    "# =================================================-\n",
    "#### Slide 28: Stationarity test  ####\n",
    "\n",
    "# Perform ADF test on original series.\n",
    "result_pm = adfuller(pjm_energy_datewise)\n",
    "\n",
    "print(\"ADF Statistic: %f\" % result_pm[0])\n",
    "print(\"p-value: %f\" % result_pm[1])"
   ]
  },
  {
   "cell_type": "code",
   "execution_count": null,
   "id": "617749bd",
   "metadata": {
    "tags": []
   },
   "outputs": [],
   "source": [
    "# =================================================-\n",
    "#### Slide 51: Exercise 1  ####\n",
    "\n",
    "\n",
    "#######################################################\n",
    "####  CONGRATULATIONS ON COMPLETING THIS MODULE!   ####\n",
    "#######################################################"
   ]
  }
 ],
 "metadata": {
  "kernelspec": {
   "display_name": "Python 3 (ipykernel)",
   "language": "python",
   "name": "python3"
  },
  "language_info": {
   "codemirror_mode": {
    "name": "ipython",
    "version": 3
   },
   "file_extension": ".py",
   "mimetype": "text/x-python",
   "name": "python",
   "nbconvert_exporter": "python",
   "pygments_lexer": "ipython3",
   "version": "3.10.13"
  }
 },
 "nbformat": 4,
 "nbformat_minor": 5
}
